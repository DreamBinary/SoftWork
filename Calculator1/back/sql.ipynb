{
 "cells": [
  {
   "cell_type": "code",
   "execution_count": null,
   "id": "initial_id",
   "metadata": {
    "collapsed": true,
    "ExecuteTime": {
     "end_time": "2023-10-08T09:23:19.264336700Z",
     "start_time": "2023-10-08T09:23:19.251383600Z"
    }
   },
   "outputs": [],
   "source": []
  },
  {
   "cell_type": "code",
   "execution_count": 1,
   "outputs": [
    {
     "data": {
      "text/plain": "((1, 0.25, 2.85),\n (2, 0.5, 3.05),\n (3, 1.0, 3.25),\n (4, 2.0, 4.15),\n (5, 3.0, 12321.0),\n (6, 5.0, 5.25))"
     },
     "execution_count": 1,
     "metadata": {},
     "output_type": "execute_result"
    }
   ],
   "source": [
    "import pymysql\n",
    "\n",
    "db = pymysql.connect(host=\"localhost\",\n",
    "                     port=3306,\n",
    "                     user=\"root\",\n",
    "                     password=\"mysqlcxq\",\n",
    "                     db=\"calculator\",\n",
    "                     charset=\"utf8\")\n",
    "cur = db.cursor()\n",
    "sql = \"select * from deposit\"\n",
    "cur.execute(sql)\n",
    "cur.fetchall()"
   ],
   "metadata": {
    "collapsed": false,
    "ExecuteTime": {
     "end_time": "2023-10-08T14:35:28.129481Z",
     "start_time": "2023-10-08T14:35:27.992451500Z"
    }
   },
   "id": "ad1cb6e9608cee1c"
  },
  {
   "cell_type": "code",
   "execution_count": 3,
   "outputs": [
    {
     "data": {
      "text/plain": "0"
     },
     "execution_count": 3,
     "metadata": {},
     "output_type": "execute_result"
    }
   ],
   "source": [
    "sql = \"update deposit set rate=100 where time=3\"\n",
    "cur.execute(sql)"
   ],
   "metadata": {
    "collapsed": false,
    "ExecuteTime": {
     "end_time": "2023-10-08T14:35:51.021372100Z",
     "start_time": "2023-10-08T14:35:51.000393500Z"
    }
   },
   "id": "84b8f49da050fe2a"
  },
  {
   "cell_type": "code",
   "execution_count": 4,
   "outputs": [
    {
     "data": {
      "text/plain": "((1, 0.25, 2.85),\n (2, 0.5, 3.05),\n (3, 1.0, 3.25),\n (4, 2.0, 4.15),\n (5, 3.0, 100.0),\n (6, 5.0, 5.25))"
     },
     "execution_count": 4,
     "metadata": {},
     "output_type": "execute_result"
    }
   ],
   "source": [
    "sql = \"select * from deposit\"\n",
    "cur.execute(sql)\n",
    "cur.fetchall()"
   ],
   "metadata": {
    "collapsed": false,
    "ExecuteTime": {
     "end_time": "2023-10-08T14:36:27.325274Z",
     "start_time": "2023-10-08T14:36:27.200453200Z"
    }
   },
   "id": "6be62a348e74731f"
  },
  {
   "cell_type": "code",
   "execution_count": 19,
   "outputs": [
    {
     "name": "stdout",
     "output_type": "stream",
     "text": [
      "None\n"
     ]
    }
   ],
   "source": [
    "sql = \"select rate from deposit where time <= 0.15 order by time desc\"\n",
    "cur.execute(sql)\n",
    "data = cur.fetchone()\n",
    "print(data)"
   ],
   "metadata": {
    "collapsed": false,
    "ExecuteTime": {
     "end_time": "2023-10-08T11:19:50.313614600Z",
     "start_time": "2023-10-08T11:19:50.234565700Z"
    }
   },
   "id": "640604e72401c36d"
  },
  {
   "cell_type": "code",
   "execution_count": 9,
   "outputs": [],
   "source": [
    "from flask import Flask\n",
    "\n",
    "app = Flask(__name__)\n",
    "\n",
    "\n",
    "@app.route(\"/\")\n",
    "def test():\n",
    "    return \"hello world\"\n",
    "\n",
    "\n",
    "@app.route(\"/deposit_rate\")\n",
    "def get_deposit_rate(time):\n",
    "    deposit_sql = f\"select rate from deposit where time <= {time} order by time desc\"\n",
    "    cur.execute(sql)\n",
    "    deposit_rate = cur.fetchone()\n",
    "    if deposit_rate is None:\n",
    "        return 0\n",
    "    return deposit_rate[0]\n",
    "\n",
    "\n",
    "@app.route(\"/loans_rate\")\n",
    "def get_loans_rate(time):\n",
    "    \n",
    "    return 0"
   ],
   "metadata": {
    "collapsed": false,
    "ExecuteTime": {
     "end_time": "2023-10-08T11:02:22.754910700Z",
     "start_time": "2023-10-08T11:02:22.467165400Z"
    }
   },
   "id": "e63b887a1be2931a"
  },
  {
   "cell_type": "code",
   "execution_count": 10,
   "outputs": [
    {
     "name": "stderr",
     "output_type": "stream",
     "text": [
      "Could not connect to 127.0.0.1: 3820\n",
      "Traceback (most recent call last):\n",
      "  File \"D:\\Mysoftware_setup\\DataSpell 2023.2.1\\plugins\\python-ce\\helpers\\pydev\\_pydevd_bundle\\pydevd_comm.py\", line 463, in start_client\n",
      "    s.connect((host, port))\n",
      "ConnectionRefusedError: [WinError 10061] 由于目标计算机积极拒绝，无法连接。\n",
      "Traceback (most recent call last):\n",
      "  File \"D:\\Mysoftware_setup\\DataSpell 2023.2.1\\plugins\\python-ce\\helpers-pro\\jupyter_debug\\pydev_jupyter_utils.py\", line 81, in attach_to_debugger\n",
      "    debugger.connect(pydev_localhost.get_localhost(), debugger_port)\n",
      "  File \"D:\\Mysoftware_setup\\DataSpell 2023.2.1\\plugins\\python-ce\\helpers\\pydev\\pydevd.py\", line 660, in connect\n",
      "    s = start_client(host, port)\n",
      "  File \"D:\\Mysoftware_setup\\DataSpell 2023.2.1\\plugins\\python-ce\\helpers\\pydev\\_pydevd_bundle\\pydevd_comm.py\", line 463, in start_client\n",
      "    s.connect((host, port))\n",
      "ConnectionRefusedError: [WinError 10061] 由于目标计算机积极拒绝，无法连接。\n",
      "Failed to connect to target debugger.\n"
     ]
    }
   ],
   "source": [
    "app.run()"
   ],
   "metadata": {
    "collapsed": false,
    "ExecuteTime": {
     "end_time": "2023-10-08T11:03:15.205396200Z",
     "start_time": "2023-10-08T11:03:12.847278400Z"
    }
   },
   "id": "aad6c3e7f344e658"
  },
  {
   "cell_type": "code",
   "execution_count": 1,
   "outputs": [
    {
     "name": "stdout",
     "output_type": "stream",
     "text": [
      "1696811995.9183836\n"
     ]
    }
   ],
   "source": [
    "import time\n",
    "print(time.time())"
   ],
   "metadata": {
    "collapsed": false,
    "ExecuteTime": {
     "end_time": "2023-10-09T00:39:55.947675700Z",
     "start_time": "2023-10-09T00:39:55.919383300Z"
    }
   },
   "id": "3e717674a1ee018a"
  },
  {
   "cell_type": "code",
   "execution_count": 2,
   "outputs": [
    {
     "name": "stdout",
     "output_type": "stream",
     "text": [
      "1696812190.1806586\n"
     ]
    },
    {
     "ename": "OperationalError",
     "evalue": "(1292, \"Incorrect datetime value: '1696812190.184651' for column 'time' at row 1\")",
     "output_type": "error",
     "traceback": [
      "\u001B[1;31m---------------------------------------------------------------------------\u001B[0m",
      "\u001B[1;31mOperationalError\u001B[0m                          Traceback (most recent call last)",
      "Cell \u001B[1;32mIn[2], line 15\u001B[0m\n\u001B[0;32m     13\u001B[0m ans \u001B[38;5;241m=\u001B[39m \u001B[38;5;124m\"\u001B[39m\u001B[38;5;124m2\u001B[39m\u001B[38;5;124m\"\u001B[39m\n\u001B[0;32m     14\u001B[0m history_sql \u001B[38;5;241m=\u001B[39m \u001B[38;5;124mf\u001B[39m\u001B[38;5;124m\"\u001B[39m\u001B[38;5;124minsert into history(time, pro, ans) values(\u001B[39m\u001B[38;5;132;01m{\u001B[39;00mc_time\u001B[38;5;132;01m}\u001B[39;00m\u001B[38;5;124m, \u001B[39m\u001B[38;5;124m'\u001B[39m\u001B[38;5;132;01m{\u001B[39;00mpro\u001B[38;5;132;01m}\u001B[39;00m\u001B[38;5;124m'\u001B[39m\u001B[38;5;124m, \u001B[39m\u001B[38;5;124m'\u001B[39m\u001B[38;5;132;01m{\u001B[39;00mans\u001B[38;5;132;01m}\u001B[39;00m\u001B[38;5;124m'\u001B[39m\u001B[38;5;124m)\u001B[39m\u001B[38;5;124m\"\u001B[39m\n\u001B[1;32m---> 15\u001B[0m \u001B[43mcur\u001B[49m\u001B[38;5;241;43m.\u001B[39;49m\u001B[43mexecute\u001B[49m\u001B[43m(\u001B[49m\u001B[43mhistory_sql\u001B[49m\u001B[43m)\u001B[49m\n",
      "File \u001B[1;32mD:\\Mysoftware_setup\\anaconda3\\envs\\daily\\lib\\site-packages\\pymysql\\cursors.py:153\u001B[0m, in \u001B[0;36mCursor.execute\u001B[1;34m(self, query, args)\u001B[0m\n\u001B[0;32m    149\u001B[0m     \u001B[38;5;28;01mpass\u001B[39;00m\n\u001B[0;32m    151\u001B[0m query \u001B[38;5;241m=\u001B[39m \u001B[38;5;28mself\u001B[39m\u001B[38;5;241m.\u001B[39mmogrify(query, args)\n\u001B[1;32m--> 153\u001B[0m result \u001B[38;5;241m=\u001B[39m \u001B[38;5;28;43mself\u001B[39;49m\u001B[38;5;241;43m.\u001B[39;49m\u001B[43m_query\u001B[49m\u001B[43m(\u001B[49m\u001B[43mquery\u001B[49m\u001B[43m)\u001B[49m\n\u001B[0;32m    154\u001B[0m \u001B[38;5;28mself\u001B[39m\u001B[38;5;241m.\u001B[39m_executed \u001B[38;5;241m=\u001B[39m query\n\u001B[0;32m    155\u001B[0m \u001B[38;5;28;01mreturn\u001B[39;00m result\n",
      "File \u001B[1;32mD:\\Mysoftware_setup\\anaconda3\\envs\\daily\\lib\\site-packages\\pymysql\\cursors.py:322\u001B[0m, in \u001B[0;36mCursor._query\u001B[1;34m(self, q)\u001B[0m\n\u001B[0;32m    320\u001B[0m conn \u001B[38;5;241m=\u001B[39m \u001B[38;5;28mself\u001B[39m\u001B[38;5;241m.\u001B[39m_get_db()\n\u001B[0;32m    321\u001B[0m \u001B[38;5;28mself\u001B[39m\u001B[38;5;241m.\u001B[39m_clear_result()\n\u001B[1;32m--> 322\u001B[0m \u001B[43mconn\u001B[49m\u001B[38;5;241;43m.\u001B[39;49m\u001B[43mquery\u001B[49m\u001B[43m(\u001B[49m\u001B[43mq\u001B[49m\u001B[43m)\u001B[49m\n\u001B[0;32m    323\u001B[0m \u001B[38;5;28mself\u001B[39m\u001B[38;5;241m.\u001B[39m_do_get_result()\n\u001B[0;32m    324\u001B[0m \u001B[38;5;28;01mreturn\u001B[39;00m \u001B[38;5;28mself\u001B[39m\u001B[38;5;241m.\u001B[39mrowcount\n",
      "File \u001B[1;32mD:\\Mysoftware_setup\\anaconda3\\envs\\daily\\lib\\site-packages\\pymysql\\connections.py:558\u001B[0m, in \u001B[0;36mConnection.query\u001B[1;34m(self, sql, unbuffered)\u001B[0m\n\u001B[0;32m    556\u001B[0m     sql \u001B[38;5;241m=\u001B[39m sql\u001B[38;5;241m.\u001B[39mencode(\u001B[38;5;28mself\u001B[39m\u001B[38;5;241m.\u001B[39mencoding, \u001B[38;5;124m\"\u001B[39m\u001B[38;5;124msurrogateescape\u001B[39m\u001B[38;5;124m\"\u001B[39m)\n\u001B[0;32m    557\u001B[0m \u001B[38;5;28mself\u001B[39m\u001B[38;5;241m.\u001B[39m_execute_command(COMMAND\u001B[38;5;241m.\u001B[39mCOM_QUERY, sql)\n\u001B[1;32m--> 558\u001B[0m \u001B[38;5;28mself\u001B[39m\u001B[38;5;241m.\u001B[39m_affected_rows \u001B[38;5;241m=\u001B[39m \u001B[38;5;28;43mself\u001B[39;49m\u001B[38;5;241;43m.\u001B[39;49m\u001B[43m_read_query_result\u001B[49m\u001B[43m(\u001B[49m\u001B[43munbuffered\u001B[49m\u001B[38;5;241;43m=\u001B[39;49m\u001B[43munbuffered\u001B[49m\u001B[43m)\u001B[49m\n\u001B[0;32m    559\u001B[0m \u001B[38;5;28;01mreturn\u001B[39;00m \u001B[38;5;28mself\u001B[39m\u001B[38;5;241m.\u001B[39m_affected_rows\n",
      "File \u001B[1;32mD:\\Mysoftware_setup\\anaconda3\\envs\\daily\\lib\\site-packages\\pymysql\\connections.py:822\u001B[0m, in \u001B[0;36mConnection._read_query_result\u001B[1;34m(self, unbuffered)\u001B[0m\n\u001B[0;32m    820\u001B[0m \u001B[38;5;28;01melse\u001B[39;00m:\n\u001B[0;32m    821\u001B[0m     result \u001B[38;5;241m=\u001B[39m MySQLResult(\u001B[38;5;28mself\u001B[39m)\n\u001B[1;32m--> 822\u001B[0m     \u001B[43mresult\u001B[49m\u001B[38;5;241;43m.\u001B[39;49m\u001B[43mread\u001B[49m\u001B[43m(\u001B[49m\u001B[43m)\u001B[49m\n\u001B[0;32m    823\u001B[0m \u001B[38;5;28mself\u001B[39m\u001B[38;5;241m.\u001B[39m_result \u001B[38;5;241m=\u001B[39m result\n\u001B[0;32m    824\u001B[0m \u001B[38;5;28;01mif\u001B[39;00m result\u001B[38;5;241m.\u001B[39mserver_status \u001B[38;5;129;01mis\u001B[39;00m \u001B[38;5;129;01mnot\u001B[39;00m \u001B[38;5;28;01mNone\u001B[39;00m:\n",
      "File \u001B[1;32mD:\\Mysoftware_setup\\anaconda3\\envs\\daily\\lib\\site-packages\\pymysql\\connections.py:1200\u001B[0m, in \u001B[0;36mMySQLResult.read\u001B[1;34m(self)\u001B[0m\n\u001B[0;32m   1198\u001B[0m \u001B[38;5;28;01mdef\u001B[39;00m \u001B[38;5;21mread\u001B[39m(\u001B[38;5;28mself\u001B[39m):\n\u001B[0;32m   1199\u001B[0m     \u001B[38;5;28;01mtry\u001B[39;00m:\n\u001B[1;32m-> 1200\u001B[0m         first_packet \u001B[38;5;241m=\u001B[39m \u001B[38;5;28;43mself\u001B[39;49m\u001B[38;5;241;43m.\u001B[39;49m\u001B[43mconnection\u001B[49m\u001B[38;5;241;43m.\u001B[39;49m\u001B[43m_read_packet\u001B[49m\u001B[43m(\u001B[49m\u001B[43m)\u001B[49m\n\u001B[0;32m   1202\u001B[0m         \u001B[38;5;28;01mif\u001B[39;00m first_packet\u001B[38;5;241m.\u001B[39mis_ok_packet():\n\u001B[0;32m   1203\u001B[0m             \u001B[38;5;28mself\u001B[39m\u001B[38;5;241m.\u001B[39m_read_ok_packet(first_packet)\n",
      "File \u001B[1;32mD:\\Mysoftware_setup\\anaconda3\\envs\\daily\\lib\\site-packages\\pymysql\\connections.py:772\u001B[0m, in \u001B[0;36mConnection._read_packet\u001B[1;34m(self, packet_type)\u001B[0m\n\u001B[0;32m    770\u001B[0m     \u001B[38;5;28;01mif\u001B[39;00m \u001B[38;5;28mself\u001B[39m\u001B[38;5;241m.\u001B[39m_result \u001B[38;5;129;01mis\u001B[39;00m \u001B[38;5;129;01mnot\u001B[39;00m \u001B[38;5;28;01mNone\u001B[39;00m \u001B[38;5;129;01mand\u001B[39;00m \u001B[38;5;28mself\u001B[39m\u001B[38;5;241m.\u001B[39m_result\u001B[38;5;241m.\u001B[39munbuffered_active \u001B[38;5;129;01mis\u001B[39;00m \u001B[38;5;28;01mTrue\u001B[39;00m:\n\u001B[0;32m    771\u001B[0m         \u001B[38;5;28mself\u001B[39m\u001B[38;5;241m.\u001B[39m_result\u001B[38;5;241m.\u001B[39munbuffered_active \u001B[38;5;241m=\u001B[39m \u001B[38;5;28;01mFalse\u001B[39;00m\n\u001B[1;32m--> 772\u001B[0m     \u001B[43mpacket\u001B[49m\u001B[38;5;241;43m.\u001B[39;49m\u001B[43mraise_for_error\u001B[49m\u001B[43m(\u001B[49m\u001B[43m)\u001B[49m\n\u001B[0;32m    773\u001B[0m \u001B[38;5;28;01mreturn\u001B[39;00m packet\n",
      "File \u001B[1;32mD:\\Mysoftware_setup\\anaconda3\\envs\\daily\\lib\\site-packages\\pymysql\\protocol.py:221\u001B[0m, in \u001B[0;36mMysqlPacket.raise_for_error\u001B[1;34m(self)\u001B[0m\n\u001B[0;32m    219\u001B[0m \u001B[38;5;28;01mif\u001B[39;00m DEBUG:\n\u001B[0;32m    220\u001B[0m     \u001B[38;5;28mprint\u001B[39m(\u001B[38;5;124m\"\u001B[39m\u001B[38;5;124merrno =\u001B[39m\u001B[38;5;124m\"\u001B[39m, errno)\n\u001B[1;32m--> 221\u001B[0m \u001B[43merr\u001B[49m\u001B[38;5;241;43m.\u001B[39;49m\u001B[43mraise_mysql_exception\u001B[49m\u001B[43m(\u001B[49m\u001B[38;5;28;43mself\u001B[39;49m\u001B[38;5;241;43m.\u001B[39;49m\u001B[43m_data\u001B[49m\u001B[43m)\u001B[49m\n",
      "File \u001B[1;32mD:\\Mysoftware_setup\\anaconda3\\envs\\daily\\lib\\site-packages\\pymysql\\err.py:143\u001B[0m, in \u001B[0;36mraise_mysql_exception\u001B[1;34m(data)\u001B[0m\n\u001B[0;32m    141\u001B[0m \u001B[38;5;28;01mif\u001B[39;00m errorclass \u001B[38;5;129;01mis\u001B[39;00m \u001B[38;5;28;01mNone\u001B[39;00m:\n\u001B[0;32m    142\u001B[0m     errorclass \u001B[38;5;241m=\u001B[39m InternalError \u001B[38;5;28;01mif\u001B[39;00m errno \u001B[38;5;241m<\u001B[39m \u001B[38;5;241m1000\u001B[39m \u001B[38;5;28;01melse\u001B[39;00m OperationalError\n\u001B[1;32m--> 143\u001B[0m \u001B[38;5;28;01mraise\u001B[39;00m errorclass(errno, errval)\n",
      "\u001B[1;31mOperationalError\u001B[0m: (1292, \"Incorrect datetime value: '1696812190.184651' for column 'time' at row 1\")"
     ]
    }
   ],
   "source": [
    "import pymysql\n",
    "import time\n",
    "print(time.time())\n",
    "db = pymysql.connect(host=\"localhost\",\n",
    "                     port=3306,\n",
    "                     user=\"root\",\n",
    "                     password=\"mysqlcxq\",\n",
    "                     db=\"calculator\",\n",
    "                     charset=\"utf8\")\n",
    "cur = db.cursor()\n",
    "c_time = time.time()\n",
    "pro = \"1+1\"\n",
    "ans = \"2\"\n",
    "history_sql = f\"insert into history(time, pro, ans) values({c_time}, '{pro}', '{ans}')\"\n",
    "cur.execute(history_sql)"
   ],
   "metadata": {
    "collapsed": false,
    "ExecuteTime": {
     "end_time": "2023-10-09T00:43:10.718292100Z",
     "start_time": "2023-10-09T00:43:10.182668400Z"
    }
   },
   "id": "310856b2006276e1"
  },
  {
   "cell_type": "code",
   "execution_count": null,
   "outputs": [],
   "source": [],
   "metadata": {
    "collapsed": false
   },
   "id": "d050ea966872fc6e"
  }
 ],
 "metadata": {
  "kernelspec": {
   "display_name": "Python 3",
   "language": "python",
   "name": "python3"
  },
  "language_info": {
   "codemirror_mode": {
    "name": "ipython",
    "version": 2
   },
   "file_extension": ".py",
   "mimetype": "text/x-python",
   "name": "python",
   "nbconvert_exporter": "python",
   "pygments_lexer": "ipython2",
   "version": "2.7.6"
  }
 },
 "nbformat": 4,
 "nbformat_minor": 5
}
