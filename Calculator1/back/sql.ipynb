{
 "cells": [
  {
   "cell_type": "code",
   "execution_count": null,
   "id": "initial_id",
   "metadata": {
    "collapsed": true,
    "ExecuteTime": {
     "end_time": "2023-10-08T09:23:19.264336700Z",
     "start_time": "2023-10-08T09:23:19.251383600Z"
    }
   },
   "outputs": [],
   "source": []
  },
  {
   "cell_type": "code",
   "execution_count": 1,
   "outputs": [
    {
     "data": {
      "text/plain": "((1, 0.25, 2.85),\n (2, 0.5, 3.05),\n (3, 1.0, 3.25),\n (4, 2.0, 4.15),\n (5, 3.0, 12321.0),\n (6, 5.0, 5.25))"
     },
     "execution_count": 1,
     "metadata": {},
     "output_type": "execute_result"
    }
   ],
   "source": [
    "import pymysql\n",
    "\n",
    "db = pymysql.connect(host=\"localhost\",\n",
    "                     port=3306,\n",
    "                     user=\"root\",\n",
    "                     password=\"mysqlcxq\",\n",
    "                     db=\"calculator\",\n",
    "                     charset=\"utf8\")\n",
    "cur = db.cursor()\n",
    "sql = \"select * from deposit\"\n",
    "cur.execute(sql)\n",
    "cur.fetchall()"
   ],
   "metadata": {
    "collapsed": false,
    "ExecuteTime": {
     "end_time": "2023-10-08T14:35:28.129481Z",
     "start_time": "2023-10-08T14:35:27.992451500Z"
    }
   },
   "id": "ad1cb6e9608cee1c"
  },
  {
   "cell_type": "code",
   "execution_count": 3,
   "outputs": [
    {
     "data": {
      "text/plain": "0"
     },
     "execution_count": 3,
     "metadata": {},
     "output_type": "execute_result"
    }
   ],
   "source": [
    "sql = \"update deposit set rate=100 where time=3\"\n",
    "cur.execute(sql)"
   ],
   "metadata": {
    "collapsed": false,
    "ExecuteTime": {
     "end_time": "2023-10-08T14:35:51.021372100Z",
     "start_time": "2023-10-08T14:35:51.000393500Z"
    }
   },
   "id": "84b8f49da050fe2a"
  },
  {
   "cell_type": "code",
   "execution_count": 4,
   "outputs": [
    {
     "data": {
      "text/plain": "((1, 0.25, 2.85),\n (2, 0.5, 3.05),\n (3, 1.0, 3.25),\n (4, 2.0, 4.15),\n (5, 3.0, 100.0),\n (6, 5.0, 5.25))"
     },
     "execution_count": 4,
     "metadata": {},
     "output_type": "execute_result"
    }
   ],
   "source": [
    "sql = \"select * from deposit\"\n",
    "cur.execute(sql)\n",
    "cur.fetchall()"
   ],
   "metadata": {
    "collapsed": false,
    "ExecuteTime": {
     "end_time": "2023-10-08T14:36:27.325274Z",
     "start_time": "2023-10-08T14:36:27.200453200Z"
    }
   },
   "id": "6be62a348e74731f"
  },
  {
   "cell_type": "code",
   "execution_count": 19,
   "outputs": [
    {
     "name": "stdout",
     "output_type": "stream",
     "text": [
      "None\n"
     ]
    }
   ],
   "source": [
    "sql = \"select rate from deposit where time <= 0.15 order by time desc\"\n",
    "cur.execute(sql)\n",
    "data = cur.fetchone()\n",
    "print(data)"
   ],
   "metadata": {
    "collapsed": false,
    "ExecuteTime": {
     "end_time": "2023-10-08T11:19:50.313614600Z",
     "start_time": "2023-10-08T11:19:50.234565700Z"
    }
   },
   "id": "640604e72401c36d"
  },
  {
   "cell_type": "code",
   "execution_count": 9,
   "outputs": [],
   "source": [
    "from flask import Flask\n",
    "\n",
    "app = Flask(__name__)\n",
    "\n",
    "\n",
    "@app.route(\"/\")\n",
    "def test():\n",
    "    return \"hello world\"\n",
    "\n",
    "\n",
    "@app.route(\"/deposit_rate\")\n",
    "def get_deposit_rate(time):\n",
    "    deposit_sql = f\"select rate from deposit where time <= {time} order by time desc\"\n",
    "    cur.execute(sql)\n",
    "    deposit_rate = cur.fetchone()\n",
    "    if deposit_rate is None:\n",
    "        return 0\n",
    "    return deposit_rate[0]\n",
    "\n",
    "\n",
    "@app.route(\"/loans_rate\")\n",
    "def get_loans_rate(time):\n",
    "    \n",
    "    return 0"
   ],
   "metadata": {
    "collapsed": false,
    "ExecuteTime": {
     "end_time": "2023-10-08T11:02:22.754910700Z",
     "start_time": "2023-10-08T11:02:22.467165400Z"
    }
   },
   "id": "e63b887a1be2931a"
  },
  {
   "cell_type": "code",
   "execution_count": 10,
   "outputs": [
    {
     "name": "stderr",
     "output_type": "stream",
     "text": [
      "Could not connect to 127.0.0.1: 3820\n",
      "Traceback (most recent call last):\n",
      "  File \"D:\\Mysoftware_setup\\DataSpell 2023.2.1\\plugins\\python-ce\\helpers\\pydev\\_pydevd_bundle\\pydevd_comm.py\", line 463, in start_client\n",
      "    s.connect((host, port))\n",
      "ConnectionRefusedError: [WinError 10061] 由于目标计算机积极拒绝，无法连接。\n",
      "Traceback (most recent call last):\n",
      "  File \"D:\\Mysoftware_setup\\DataSpell 2023.2.1\\plugins\\python-ce\\helpers-pro\\jupyter_debug\\pydev_jupyter_utils.py\", line 81, in attach_to_debugger\n",
      "    debugger.connect(pydev_localhost.get_localhost(), debugger_port)\n",
      "  File \"D:\\Mysoftware_setup\\DataSpell 2023.2.1\\plugins\\python-ce\\helpers\\pydev\\pydevd.py\", line 660, in connect\n",
      "    s = start_client(host, port)\n",
      "  File \"D:\\Mysoftware_setup\\DataSpell 2023.2.1\\plugins\\python-ce\\helpers\\pydev\\_pydevd_bundle\\pydevd_comm.py\", line 463, in start_client\n",
      "    s.connect((host, port))\n",
      "ConnectionRefusedError: [WinError 10061] 由于目标计算机积极拒绝，无法连接。\n",
      "Failed to connect to target debugger.\n"
     ]
    }
   ],
   "source": [
    "app.run()"
   ],
   "metadata": {
    "collapsed": false,
    "ExecuteTime": {
     "end_time": "2023-10-08T11:03:15.205396200Z",
     "start_time": "2023-10-08T11:03:12.847278400Z"
    }
   },
   "id": "aad6c3e7f344e658"
  },
  {
   "cell_type": "code",
   "execution_count": null,
   "outputs": [],
   "source": [],
   "metadata": {
    "collapsed": false
   },
   "id": "3e717674a1ee018a"
  }
 ],
 "metadata": {
  "kernelspec": {
   "display_name": "Python 3",
   "language": "python",
   "name": "python3"
  },
  "language_info": {
   "codemirror_mode": {
    "name": "ipython",
    "version": 2
   },
   "file_extension": ".py",
   "mimetype": "text/x-python",
   "name": "python",
   "nbconvert_exporter": "python",
   "pygments_lexer": "ipython2",
   "version": "2.7.6"
  }
 },
 "nbformat": 4,
 "nbformat_minor": 5
}
